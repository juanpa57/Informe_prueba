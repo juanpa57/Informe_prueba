{
 "cells": [
  {
   "cell_type": "code",
   "execution_count": 1,
   "metadata": {},
   "outputs": [],
   "source": [
    "# this cell enables relative path imports\n",
    "import time \n",
    "import os\n",
    "from dotenv import load_dotenv\n",
    "load_dotenv()\n",
    "_PROJECT_PATH: str = os.environ[\"_project_path\"]\n",
    "_PICKLED_DATA_FILENAME: str = os.environ[\"_pickled_data_filename\"]\n",
    "\n",
    "import sys\n",
    "from pathlib import Path\n",
    "project_path = Path(_PROJECT_PATH)\n",
    "sys.path.append(str(project_path))"
   ]
  },
  {
   "cell_type": "code",
   "execution_count": 2,
   "metadata": {},
   "outputs": [],
   "source": [
    "# import all your modules here\n",
    "import json\n",
    "import pandas as pd\n",
    "import config_v2 as cfg\n",
    "from library_ubidots_v2 import Ubidots as ubi"
   ]
  },
  {
   "cell_type": "code",
   "execution_count": 3,
   "metadata": {},
   "outputs": [],
   "source": [
    "# set your constants here\n",
    "baseline=cfg.BASELINE\n",
    "study=cfg.STUDY"
   ]
  },
  {
   "cell_type": "code",
   "execution_count": 4,
   "metadata": {},
   "outputs": [],
   "source": [
    "df_devices = ubi.get_available_devices_v2(label='fundacion-cardio-infantil', level='group', page_size=1000)\n",
    "df_vars = ubi.get_available_variables(list(df_devices['device_id']))"
   ]
  },
  {
   "cell_type": "code",
   "execution_count": 5,
   "metadata": {},
   "outputs": [],
   "source": [
    "df_vars = df_vars[df_vars['variable_label'].isin(cfg.WHITELISTED_VAR_LABELS)]\n",
    "VAR_IDS_TO_REQUEST = list(df_vars['variable_id'])\n",
    "VAR_ID_TO_LABEL = dict(zip(df_vars['variable_id'], df_vars['variable_label']))"
   ]
  },
  {
   "cell_type": "code",
   "execution_count": 6,
   "metadata": {},
   "outputs": [
    {
     "name": "stdout",
     "output_type": "stream",
     "text": [
      "Making request for the following interval: Baseline:2023-01-01, Study:2023-06-30\n",
      "Progress: 100.0%\n",
      "Response status code: 200\n"
     ]
    }
   ],
   "source": [
    "CHUNK_SIZE = 10\n",
    "DATE_INTERVAL_REQUEST = {'start': baseline[0], 'end': study[1]}\n",
    "df = None\n",
    "lst_responses = []\n",
    "n_vars = len(VAR_IDS_TO_REQUEST)\n",
    "print(f\"Making request for the following interval: Baseline:{DATE_INTERVAL_REQUEST['start']}, Study:{DATE_INTERVAL_REQUEST['end']}\")\n",
    "for idx in range(0, ubi.ceildiv(len(VAR_IDS_TO_REQUEST), CHUNK_SIZE)):\n",
    "    idx_start = idx * CHUNK_SIZE\n",
    "    idx_end = (idx + 1) * CHUNK_SIZE\n",
    "    chunk = VAR_IDS_TO_REQUEST[idx_start:idx_end]\n",
    "    response = ubi.make_request(\n",
    "        chunk, \n",
    "        DATE_INTERVAL_REQUEST, \n",
    "    )\n",
    "    if response.status_code == 204 or response.status_code >= 500:\n",
    "        print(f\"Empty response for chunk {idx}\")\n",
    "        time.sleep(10)\n",
    "        response = ubi.make_request(\n",
    "        chunk, \n",
    "        DATE_INTERVAL_REQUEST,)\n",
    "    current_idx = idx_end+1\n",
    "    if (current_idx > n_vars):\n",
    "        current_idx = n_vars\n",
    "    print(f\"Progress: {100*(current_idx)/n_vars:0.1f}%\")\n",
    "    print(f\"Response status code: {response.status_code}\")\n",
    "    if response.status_code != 204:\n",
    "        lst_responses.append(response)\n",
    "    else: \n",
    "        print(f\"Empty response for chunk {idx}\")\n",
    "df = ubi.parse_response(lst_responses, VAR_ID_TO_LABEL)"
   ]
  },
  {
   "cell_type": "code",
   "execution_count": 7,
   "metadata": {},
   "outputs": [],
   "source": [
    "pd.to_pickle(df, project_path / 'data'/ _PICKLED_DATA_FILENAME)"
   ]
  }
 ],
 "metadata": {
  "kernelspec": {
   "display_name": "nuevo2-env",
   "language": "python",
   "name": "python3"
  },
  "language_info": {
   "codemirror_mode": {
    "name": "ipython",
    "version": 3
   },
   "file_extension": ".py",
   "mimetype": "text/x-python",
   "name": "python",
   "nbconvert_exporter": "python",
   "pygments_lexer": "ipython3",
   "version": "3.9.16"
  },
  "orig_nbformat": 4,
  "vscode": {
   "interpreter": {
    "hash": "a3ed1408207adb65ea76cc73f6a4a844ab927e5dee5cd8790bd3d1eac84bb653"
   }
  }
 },
 "nbformat": 4,
 "nbformat_minor": 2
}
